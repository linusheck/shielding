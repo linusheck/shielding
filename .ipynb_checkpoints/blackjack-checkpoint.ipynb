{
 "cells": [
  {
   "cell_type": "code",
   "execution_count": 51,
   "id": "3f5586e5-3f7a-4626-87e4-95fe1b1d2887",
   "metadata": {},
   "outputs": [],
   "source": [
    "import gymnasium as gym\n",
    "from stormvogel import *\n",
    "from stormvogel.bird import *\n",
    "env = gym.make(\"Blackjack-v1\", render_mode=\"rgb_array\")\n"
   ]
  },
  {
   "cell_type": "code",
   "execution_count": 1,
   "id": "0f8f1a94-8089-4414-b53e-199a6e822d2d",
   "metadata": {},
   "outputs": [
    {
     "ename": "NameError",
     "evalue": "name 'bird' is not defined",
     "output_type": "error",
     "traceback": [
      "\u001b[31m---------------------------------------------------------------------------\u001b[39m",
      "\u001b[31mNameError\u001b[39m                                 Traceback (most recent call last)",
      "\u001b[36mCell\u001b[39m\u001b[36m \u001b[39m\u001b[32mIn[1]\u001b[39m\u001b[32m, line 64\u001b[39m\n\u001b[32m     61\u001b[39m \u001b[38;5;28;01mdef\u001b[39;00m\u001b[38;5;250m \u001b[39m\u001b[34mlabels\u001b[39m(s):\n\u001b[32m     62\u001b[39m     \u001b[38;5;28;01mreturn\u001b[39;00m \u001b[38;5;28mstr\u001b[39m(s)\n\u001b[32m---> \u001b[39m\u001b[32m64\u001b[39m blackjack = \u001b[43mbird\u001b[49m.build_bird(\n\u001b[32m     65\u001b[39m     delta=delta,\n\u001b[32m     66\u001b[39m     init=\u001b[33m\"\u001b[39m\u001b[33minit\u001b[39m\u001b[33m\"\u001b[39m,\n\u001b[32m     67\u001b[39m     available_actions=available_actions,\n\u001b[32m     68\u001b[39m     labels=labels,\n\u001b[32m     69\u001b[39m     modeltype=ModelType.MDP\n\u001b[32m     70\u001b[39m )\n\u001b[32m     72\u001b[39m result = model_checking(blackjack, \u001b[33m\"\u001b[39m\u001b[33mPmin=? [F \u001b[39m\u001b[38;5;130;01m\\\"\u001b[39;00m\u001b[33mbust\u001b[39m\u001b[38;5;130;01m\\\"\u001b[39;00m\u001b[33m]\u001b[39m\u001b[33m\"\u001b[39m, \u001b[38;5;28;01mTrue\u001b[39;00m)\n\u001b[32m     74\u001b[39m \u001b[38;5;66;03m#vis = show(blackjack, result=result, nx_pos=True, nx_scale=100000)\u001b[39;00m\n",
      "\u001b[31mNameError\u001b[39m: name 'bird' is not defined"
     ]
    }
   ],
   "source": [
    "def available_actions(s):\n",
    "    # Decision only in live states: 0 == hit, 1 == stick\n",
    "    if s in [\"init\", \"bust\", \"done\"]:\n",
    "        return [[]]\n",
    "    val, usable_ace = s\n",
    "    if val > 21 or val == 0:\n",
    "        return [[]]\n",
    "    else:\n",
    "        return [[\"hit\"], [\"stick\"]]\n",
    "\n",
    "def draw_card():\n",
    "    # Ranks uniformly likely; 10 occurs four times (10, J, Q, K)\n",
    "    cards = [1] + list(range(2, 11)) + [19] * 3\n",
    "    p = 1.0 / 13.0\n",
    "    return [(p, c) for c in cards]\n",
    "\n",
    "def _add_card(val, usable_ace, card):\n",
    "    if card == 1:\n",
    "        if val + 11 <= 21:\n",
    "            return val + 11, True\n",
    "        new_val = val + 1\n",
    "        if new_val > 21 and usable_ace:\n",
    "            return new_val - 10, False\n",
    "        return new_val, usable_ace\n",
    "    else:\n",
    "        new_val = val + card\n",
    "        if new_val > 21 and usable_ace:\n",
    "            return new_val - 10, False\n",
    "        return new_val, usable_ace\n",
    "\n",
    "def delta(s, a):\n",
    "    # Chance init: deal two cards to the player before any action\n",
    "    if s == \"init\":\n",
    "        outcomes = {}\n",
    "        for p1, c1 in draw_card():\n",
    "            for p2, c2 in draw_card():\n",
    "                v, ua = 0, False\n",
    "                v, ua = _add_card(v, ua, c1)\n",
    "                v, ua = _add_card(v, ua, c2)\n",
    "                nxt = (v, ua)  # cannot bust in two cards with proper ace handling\n",
    "                outcomes[nxt] = outcomes.get(nxt, 0.0) + p1 * p2\n",
    "        return [(prob, state) for state, prob in outcomes.items()]\n",
    "    if s in [\"bust\", \"done\"]:\n",
    "        return [(1.0, s)]\n",
    "    val, usable_ace = s\n",
    "\n",
    "    if val > 21:\n",
    "        return [(1.0, \"bust\")]\n",
    "\n",
    "    if a == [\"stick\"]:  # stick\n",
    "        return [(1.0, \"done\")]\n",
    "\n",
    "    # hit\n",
    "    outcomes = {}\n",
    "    for p, c in draw_card():\n",
    "        nv, nua = _add_card(val, usable_ace, c)\n",
    "        nxt = \"bust\" if nv > 21 else (nv, nua)\n",
    "        outcomes[nxt] = outcomes.get(nxt, 0.0) + p\n",
    "    return [(prob, state) for state, prob in outcomes.items()]\n",
    "\n",
    "def labels(s):\n",
    "    return str(s)\n",
    "\n",
    "blackjack = bird.build_bird(\n",
    "    delta=delta,\n",
    "    init=\"init\",\n",
    "    available_actions=available_actions,\n",
    "    labels=labels,\n",
    "    modeltype=ModelType.MDP\n",
    ")\n",
    "\n",
    "result = model_checking(blackjack, \"Pmin=? [F \\\"bust\\\"]\", True)\n",
    "\n",
    "#vis = show(blackjack, result=result, nx_pos=True, nx_scale=100000)"
   ]
  },
  {
   "cell_type": "code",
   "execution_count": null,
   "id": "98c6a1c2-8703-4c17-ab50-83010be0d24e",
   "metadata": {},
   "outputs": [],
   "source": []
  }
 ],
 "metadata": {
  "kernelspec": {
   "display_name": "Python 3 (ipykernel)",
   "language": "python",
   "name": "python3"
  },
  "language_info": {
   "codemirror_mode": {
    "name": "ipython",
    "version": 3
   },
   "file_extension": ".py",
   "mimetype": "text/x-python",
   "name": "python",
   "nbconvert_exporter": "python",
   "pygments_lexer": "ipython3",
   "version": "3.12.11"
  }
 },
 "nbformat": 4,
 "nbformat_minor": 5
}
