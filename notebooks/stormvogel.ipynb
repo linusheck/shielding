{
 "cells": [
  {
   "cell_type": "code",
   "execution_count": 1,
   "id": "29c3e849-4e36-4749-b49f-1503f56a8d52",
   "metadata": {},
   "outputs": [
    {
     "data": {
      "application/vnd.jupyter.widget-view+json": {
       "model_id": "bc51784af478402986de5447b6a690d9",
       "version_major": 2,
       "version_minor": 0
      },
      "text/plain": [
       "Output()"
      ]
     },
     "metadata": {},
     "output_type": "display_data"
    },
    {
     "data": {
      "text/html": [
       "<script>\n",
       "function return_id_result(url, id, data) {\n",
       "        fetch(url, {\n",
       "            method: 'POST',\n",
       "            body: JSON.stringify({\n",
       "                'id': id,\n",
       "                'data': data\n",
       "            })\n",
       "        })\n",
       "    }\n",
       "</script>"
      ],
      "text/plain": [
       "<IPython.core.display.HTML object>"
      ]
     },
     "metadata": {},
     "output_type": "display_data"
    },
    {
     "data": {
      "application/javascript": [
       "\n",
       "function return_id_result(url, id, data) {\n",
       "        fetch(url, {\n",
       "            method: 'POST',\n",
       "            body: JSON.stringify({\n",
       "                'id': id,\n",
       "                'data': data\n",
       "            })\n",
       "        })\n",
       "    }\n"
      ],
      "text/plain": [
       "<IPython.core.display.Javascript object>"
      ]
     },
     "metadata": {},
     "output_type": "display_data"
    },
    {
     "data": {
      "application/javascript": [
       "return_id_result('http://127.0.0.1:8892', 'QmEBMQPTrIdGcGwnxECz', 'test message')"
      ],
      "text/plain": [
       "<IPython.core.display.Javascript object>"
      ]
     },
     "metadata": {},
     "output_type": "display_data"
    },
    {
     "data": {
      "application/vnd.jupyter.widget-view+json": {
       "model_id": "022b85ec954845bb8016a9aede235447",
       "version_major": 2,
       "version_minor": 0
      },
      "text/plain": [
       "HBox(children=(Output(), Output()))"
      ]
     },
     "metadata": {},
     "output_type": "display_data"
    },
    {
     "data": {
      "application/javascript": [
       "nw_jsyzoxfCSg.network.setOptions({\n",
       "  \"__fake_macros\": {\n",
       "    \"__group_macro\": {\n",
       "      \"borderWidth\": 1,\n",
       "      \"color\": {\n",
       "        \"background\": \"white\",\n",
       "        \"border\": \"black\",\n",
       "        \"highlight\": {\n",
       "          \"background\": \"white\",\n",
       "          \"border\": \"red\"\n",
       "        }\n",
       "      },\n",
       "      \"shape\": \"ellipse\",\n",
       "      \"mass\": 1,\n",
       "      \"font\": {\n",
       "        \"color\": \"black\",\n",
       "        \"size\": 14\n",
       "      }\n",
       "    }\n",
       "  },\n",
       "  \"edit_groups\": {\n",
       "    \"groups\": [\n",
       "      \"states\",\n",
       "      \"actions\"\n",
       "    ]\n",
       "  },\n",
       "  \"groups\": {\n",
       "    \"actions\": {\n",
       "      \"borderWidth\": 1,\n",
       "      \"color\": {\n",
       "        \"background\": \"lightblue\",\n",
       "        \"border\": \"black\",\n",
       "        \"highlight\": {\n",
       "          \"background\": \"white\",\n",
       "          \"border\": \"red\"\n",
       "        }\n",
       "      },\n",
       "      \"shape\": \"box\",\n",
       "      \"mass\": 1,\n",
       "      \"font\": {\n",
       "        \"color\": \"black\",\n",
       "        \"size\": 14\n",
       "      }\n",
       "    },\n",
       "    \"scheduled_actions\": {\n",
       "      \"shape\": \"box\",\n",
       "      \"color\": {\n",
       "        \"background\": \"pink\",\n",
       "        \"border\": \"red\"\n",
       "      }\n",
       "    },\n",
       "    \"states\": {\n",
       "      \"borderWidth\": 1,\n",
       "      \"color\": {\n",
       "        \"background\": \"white\",\n",
       "        \"border\": \"black\",\n",
       "        \"highlight\": {\n",
       "          \"background\": \"white\",\n",
       "          \"border\": \"red\"\n",
       "        }\n",
       "      },\n",
       "      \"shape\": \"ellipse\",\n",
       "      \"mass\": 1,\n",
       "      \"font\": {\n",
       "        \"color\": \"black\",\n",
       "        \"size\": 14\n",
       "      }\n",
       "    }\n",
       "  },\n",
       "  \"reload_button\": false,\n",
       "  \"edges\": {\n",
       "    \"arrows\": \"to\",\n",
       "    \"font\": {\n",
       "      \"color\": \"black\",\n",
       "      \"size\": 14,\n",
       "      \"strokeColor\": \"white\",\n",
       "      \"strokeWidth\": 2\n",
       "    },\n",
       "    \"color\": {\n",
       "      \"color\": \"black\"\n",
       "    },\n",
       "    \"width\": 1\n",
       "  },\n",
       "  \"numbers\": {\n",
       "    \"fractions\": true,\n",
       "    \"digits\": 5,\n",
       "    \"denominator_limit\": 1000\n",
       "  },\n",
       "  \"results\": {\n",
       "    \"show_results\": true,\n",
       "    \"result_symbol\": \"\\u2606\",\n",
       "    \"result_colors\": false,\n",
       "    \"min_result_color\": \"#ffffff\",\n",
       "    \"max_result_color\": \"#ff0000\"\n",
       "  },\n",
       "  \"state_properties\": {\n",
       "    \"show_ids\": false,\n",
       "    \"show_rewards\": true,\n",
       "    \"reward_symbol\": \"\\u20ac\",\n",
       "    \"show_zero_rewards\": true,\n",
       "    \"show_observations\": true,\n",
       "    \"observation_symbol\": \"\\u0298\"\n",
       "  },\n",
       "  \"layout\": {\n",
       "    \"randomSeed\": 5\n",
       "  },\n",
       "  \"misc\": {\n",
       "    \"enable_physics\": true,\n",
       "    \"width\": 800,\n",
       "    \"height\": 600,\n",
       "    \"explore\": false\n",
       "  },\n",
       "  \"saving\": {\n",
       "    \"relative_path\": true,\n",
       "    \"filename\": \"layouts/NAME.json\",\n",
       "    \"save_button\": false,\n",
       "    \"load_button\": false\n",
       "  },\n",
       "  \"positions\": {},\n",
       "  \"physics\": true,\n",
       "  \"autoResize\": true\n",
       "});"
      ],
      "text/plain": [
       "<IPython.core.display.Javascript object>"
      ]
     },
     "metadata": {},
     "output_type": "display_data"
    },
    {
     "data": {
      "text/plain": [
       "<stormvogel.visualization.JSVisualization at 0x11e448980>"
      ]
     },
     "execution_count": 1,
     "metadata": {},
     "output_type": "execute_result"
    }
   ],
   "source": [
    "from stormvogel import *\n",
    "from stormvogel.bird import *\n",
    "\n",
    "# This function describes the transition relation\n",
    "def delta(state):\n",
    "    return [\n",
    "        (1/2, (state + 1) % 5),\n",
    "        (1/2, (state - 1) % 5)\n",
    "    ]\n",
    "def rewards(state):\n",
    "    return {\"R\": state / 5}\n",
    "\n",
    "model = build_bird(\n",
    "    delta, init=0, rewards=rewards, modeltype=ModelType.DTMC\n",
    ")\n",
    "# Modify the model directly\n",
    "model.get_state_by_name(\"4\").add_label(\"goal\")\n",
    "# Perform model checking using Storm\n",
    "result = model_checking(model, \"R=? [F \\\"goal\\\"]\")\n",
    "\n",
    "# Interactive visualization\n",
    "show(model, result=result, show_editor=True)"
   ]
  },
  {
   "cell_type": "code",
   "execution_count": null,
   "id": "5b2bc9cc-b489-4aa4-94b6-828e7068da4a",
   "metadata": {},
   "outputs": [],
   "source": []
  }
 ],
 "metadata": {
  "kernelspec": {
   "display_name": "Python 3 (ipykernel)",
   "language": "python",
   "name": "python3"
  },
  "language_info": {
   "codemirror_mode": {
    "name": "ipython",
    "version": 3
   },
   "file_extension": ".py",
   "mimetype": "text/x-python",
   "name": "python",
   "nbconvert_exporter": "python",
   "pygments_lexer": "ipython3",
   "version": "3.12.11"
  }
 },
 "nbformat": 4,
 "nbformat_minor": 5
}
